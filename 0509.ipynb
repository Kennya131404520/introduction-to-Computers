{
  "nbformat": 4,
  "nbformat_minor": 0,
  "metadata": {
    "colab": {
      "name": "0509.ipynb",
      "provenance": [],
      "include_colab_link": true
    },
    "kernelspec": {
      "name": "python3",
      "display_name": "Python 3"
    },
    "language_info": {
      "name": "python"
    }
  },
  "cells": [
    {
      "cell_type": "markdown",
      "metadata": {
        "id": "view-in-github",
        "colab_type": "text"
      },
      "source": [
        "<a href=\"https://colab.research.google.com/github/Kennya131404520/introduction-to-Computers/blob/main/0509.ipynb\" target=\"_parent\"><img src=\"https://colab.research.google.com/assets/colab-badge.svg\" alt=\"Open In Colab\"/></a>"
      ]
    },
    {
      "cell_type": "code",
      "execution_count": null,
      "metadata": {
        "colab": {
          "base_uri": "https://localhost:8080/"
        },
        "id": "t5Pa4Ota7vSG",
        "outputId": "f9fb3030-3965-48f6-e3ac-aa879d50e425"
      },
      "outputs": [
        {
          "output_type": "stream",
          "name": "stdout",
          "text": [
            "123\n"
          ]
        }
      ],
      "source": [
        "print(\"123\")"
      ]
    },
    {
      "cell_type": "code",
      "source": [
        "temp=float(input(\"請輸入你的體溫\"))\n",
        "if temp >= 37.5:\n",
        "    print(\"體溫過高！\")\n",
        "elif temp >= 37 and temp < 37.4:\n",
        "    print(\"體溫略高！\")\n",
        "\n",
        "else:\n",
        "    print(\"體溫異常，請重新測量！\")\n"
      ],
      "metadata": {
        "colab": {
          "base_uri": "https://localhost:8080/"
        },
        "id": "dfmFASXu8fqz",
        "outputId": "b7393e75-eef2-43e9-a258-0b3fba2aea1e"
      },
      "execution_count": null,
      "outputs": [
        {
          "output_type": "stream",
          "name": "stdout",
          "text": [
            "請輸入你的體溫36\n",
            "體溫異常，請重新測量！\n"
          ]
        }
      ]
    },
    {
      "cell_type": "code",
      "source": [
        "grade=float(input(\"請輸入你的成績\"))\n",
        "if grade >= 90:\n",
        "    print(\"A\")\n",
        "elif grade >= 80 and grade < 89:\n",
        "    print(\"B\")\n",
        "elif grade >= 70 and grade < 79:\n",
        "    print(\"C\")\n",
        "elif grade >= 60 and grade < 69:\n",
        "    print(\"D\")\n",
        "else:\n",
        "    print(\"E\")"
      ],
      "metadata": {
        "colab": {
          "base_uri": "https://localhost:8080/"
        },
        "id": "MQhJmjer8ftO",
        "outputId": "3ad12f05-d786-4dc8-ee40-747bee2b247f"
      },
      "execution_count": null,
      "outputs": [
        {
          "output_type": "stream",
          "name": "stdout",
          "text": [
            "請輸入你的成績50\n",
            "E\n"
          ]
        }
      ]
    },
    {
      "cell_type": "code",
      "source": [
        "money = int(input(\"請輸入購物金額\"))\n",
        "if (money >= 10000):\n",
        "  if(money >=100000):\n",
        "    print(\"八折\", money *0.8, end = \"元\\n\")\n",
        "  elif(money >= 50000):\n",
        "    print(\"八五折\", money *0.85, end = \"元\\n\")\n",
        "  elif(money >=10000):\n",
        "    print(\"九折\", money *0.9, end = \"元\\n\" )\n",
        "else:\n",
        "  print(\"沒打折\", money, end = \"元\\n\")"
      ],
      "metadata": {
        "colab": {
          "base_uri": "https://localhost:8080/"
        },
        "id": "q0GNw7Tx8fvi",
        "outputId": "02b3b36b-1de8-48ac-d100-c177911b17fa"
      },
      "execution_count": null,
      "outputs": [
        {
          "output_type": "stream",
          "name": "stdout",
          "text": [
            "請輸入購物金額50000\n",
            "八五折 42500.0元\n"
          ]
        }
      ]
    },
    {
      "cell_type": "code",
      "source": [
        "season = int(input(\"請輸入月份\"))\n",
        "if season >= 3 and season <= 5:\n",
        "  print(\"春天！\")\n",
        "elif season >= 6 and season <= 8:\n",
        "  print(\"夏天！\")\n",
        "elif season >= 9 and season <= 11:\n",
        "  print(\"秋天！\")\n",
        "elif season >= 1 or season >= 2 or season <= 12:\n",
        "  print(\"冬天！\")\n",
        "\n",
        "else:\n",
        "  print(\"不在範圍內！\")\n",
        "  "
      ],
      "metadata": {
        "colab": {
          "base_uri": "https://localhost:8080/"
        },
        "id": "rZ_kwGaA8fx1",
        "outputId": "b003a062-05b2-440f-b1bc-bc721dedaaa9"
      },
      "execution_count": null,
      "outputs": [
        {
          "output_type": "stream",
          "name": "stdout",
          "text": [
            "請輸入月份3\n",
            "春天！\n"
          ]
        }
      ]
    },
    {
      "cell_type": "code",
      "source": [
        "tax = int(input(\"請輸入收入\"))\n",
        "if(tax >= 2000000):\n",
        "    print(\"稅率為0.3\",tax *0.3, end = \"元\\n\")\n",
        "elif(tax >= 1000000):\n",
        "    print(\"稅率為0.21\",tax *0.21, end = \"元\\n\")\n",
        "elif(tax >=600000):\n",
        "    print(\"稅率為0.13\",tax *0.13, end = \"元\\n\")\n",
        "elif(tax >=300000):\n",
        "    print(\"稅率為0.06\",tax *0.06, end = \"元\\n\")\n",
        "else:\n",
        "  print(\"不用繳稅\",tax *0, end = \"元\\n\")"
      ],
      "metadata": {
        "colab": {
          "base_uri": "https://localhost:8080/"
        },
        "id": "_csY5thX8fz5",
        "outputId": "98199ff0-e9e9-4326-ee99-8e2e0476671f"
      },
      "execution_count": null,
      "outputs": [
        {
          "output_type": "stream",
          "name": "stdout",
          "text": [
            "請輸入收入2000000\n",
            "稅率為0.3 600000.0元\n"
          ]
        }
      ]
    }
  ]
}