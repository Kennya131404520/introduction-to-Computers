{
  "nbformat": 4,
  "nbformat_minor": 0,
  "metadata": {
    "colab": {
      "name": "0516.ipynb",
      "provenance": [],
      "authorship_tag": "ABX9TyPfMmYhlx3BW8NTWlRfthKw",
      "include_colab_link": true
    },
    "kernelspec": {
      "name": "python3",
      "display_name": "Python 3"
    },
    "language_info": {
      "name": "python"
    }
  },
  "cells": [
    {
      "cell_type": "markdown",
      "metadata": {
        "id": "view-in-github",
        "colab_type": "text"
      },
      "source": [
        "<a href=\"https://colab.research.google.com/github/Kennya131404520/introduction-to-Computers/blob/main/0516.ipynb\" target=\"_parent\"><img src=\"https://colab.research.google.com/assets/colab-badge.svg\" alt=\"Open In Colab\"/></a>"
      ]
    },
    {
      "cell_type": "code",
      "execution_count": null,
      "metadata": {
        "colab": {
          "base_uri": "https://localhost:8080/"
        },
        "id": "mhYehw7ERs6L",
        "outputId": "57bbb0c1-2d55-4b76-af03-882c9637410e"
      },
      "outputs": [
        {
          "output_type": "stream",
          "name": "stdout",
          "text": [
            "123\n"
          ]
        }
      ],
      "source": [
        "print('123')"
      ]
    },
    {
      "cell_type": "code",
      "source": [
        "i=range(5)"
      ],
      "metadata": {
        "id": "9BlmgaBTR17x"
      },
      "execution_count": null,
      "outputs": []
    },
    {
      "cell_type": "code",
      "source": [
        "print(type(i))"
      ],
      "metadata": {
        "colab": {
          "base_uri": "https://localhost:8080/"
        },
        "id": "scC_97SoR1-x",
        "outputId": "1540f4bd-832d-4e85-aa1a-077ef0c79b41"
      },
      "execution_count": null,
      "outputs": [
        {
          "output_type": "stream",
          "name": "stdout",
          "text": [
            "<class 'range'>\n"
          ]
        }
      ]
    },
    {
      "cell_type": "code",
      "source": [
        "print(i)"
      ],
      "metadata": {
        "colab": {
          "base_uri": "https://localhost:8080/"
        },
        "id": "5UZD-ljcR2Bb",
        "outputId": "2c70f4cd-2271-4e35-c8b9-fa6d0da97904"
      },
      "execution_count": null,
      "outputs": [
        {
          "output_type": "stream",
          "name": "stdout",
          "text": [
            "range(0, 5)\n"
          ]
        }
      ]
    },
    {
      "cell_type": "code",
      "source": [
        "print(list(i))"
      ],
      "metadata": {
        "colab": {
          "base_uri": "https://localhost:8080/"
        },
        "id": "eh5GHrZkR2EV",
        "outputId": "1349331d-312d-4599-f95e-ca65ae31e6bf"
      },
      "execution_count": null,
      "outputs": [
        {
          "output_type": "stream",
          "name": "stdout",
          "text": [
            "[0, 1, 2, 3, 4]\n"
          ]
        }
      ]
    },
    {
      "cell_type": "code",
      "source": [
        "a=range(3,8)\n",
        "print(list(a))"
      ],
      "metadata": {
        "colab": {
          "base_uri": "https://localhost:8080/"
        },
        "id": "lwBZzv_pR2Gy",
        "outputId": "01b1a5ba-4be9-4a0d-82dd-ba68a50a9cca"
      },
      "execution_count": null,
      "outputs": [
        {
          "output_type": "stream",
          "name": "stdout",
          "text": [
            "[3, 4, 5, 6, 7]\n"
          ]
        }
      ]
    },
    {
      "cell_type": "code",
      "source": [
        "b=range(-2,4)\n",
        "print(list(b))"
      ],
      "metadata": {
        "colab": {
          "base_uri": "https://localhost:8080/"
        },
        "id": "ehUsRDWbR2J5",
        "outputId": "7230453c-f8f7-4982-df0d-4b7ebfd223ad"
      },
      "execution_count": null,
      "outputs": [
        {
          "output_type": "stream",
          "name": "stdout",
          "text": [
            "[-2, -1, 0, 1, 2, 3]\n"
          ]
        }
      ]
    },
    {
      "cell_type": "code",
      "source": [
        "c=range(3,8,1)\n",
        "print(list(c))"
      ],
      "metadata": {
        "colab": {
          "base_uri": "https://localhost:8080/"
        },
        "id": "NdkeLVl9R2M-",
        "outputId": "aa022617-9ba8-4d72-a796-4d87a2070881"
      },
      "execution_count": null,
      "outputs": [
        {
          "output_type": "stream",
          "name": "stdout",
          "text": [
            "[3, 4, 5, 6, 7]\n"
          ]
        }
      ]
    },
    {
      "cell_type": "code",
      "source": [
        "d=range(3,8,2)\n",
        "print(list(d))"
      ],
      "metadata": {
        "colab": {
          "base_uri": "https://localhost:8080/"
        },
        "id": "EZXx-azsSMyf",
        "outputId": "09088d5f-f81d-4293-ff96-011760ab4a61"
      },
      "execution_count": null,
      "outputs": [
        {
          "output_type": "stream",
          "name": "stdout",
          "text": [
            "[3, 5, 7]\n"
          ]
        }
      ]
    },
    {
      "cell_type": "code",
      "source": [
        "e=range(8,3,-1)\n",
        "print(list(e))"
      ],
      "metadata": {
        "colab": {
          "base_uri": "https://localhost:8080/"
        },
        "id": "5EGij4vQSM1o",
        "outputId": "3c07eebc-f4d9-49e9-d9b4-2d7ca834e83f"
      },
      "execution_count": null,
      "outputs": [
        {
          "output_type": "stream",
          "name": "stdout",
          "text": [
            "[8, 7, 6, 5, 4]\n"
          ]
        }
      ]
    },
    {
      "cell_type": "code",
      "source": [
        "f=range(0,9,1)\n",
        "print(list(f))"
      ],
      "metadata": {
        "colab": {
          "base_uri": "https://localhost:8080/"
        },
        "id": "1qdP1ATWSM4j",
        "outputId": "a18387e7-ad62-40e6-c037-22cd46121ed8"
      },
      "execution_count": null,
      "outputs": [
        {
          "output_type": "stream",
          "name": "stdout",
          "text": [
            "[0, 1, 2, 3, 4, 5, 6, 7, 8]\n"
          ]
        }
      ]
    },
    {
      "cell_type": "code",
      "source": [
        "f=range(0,9,1)\n",
        "print(list(f))"
      ],
      "metadata": {
        "colab": {
          "base_uri": "https://localhost:8080/"
        },
        "id": "wV9Kol_qSM7M",
        "outputId": "236f091e-108e-4ac6-e64f-7a65f5bc55e9"
      },
      "execution_count": null,
      "outputs": [
        {
          "output_type": "stream",
          "name": "stdout",
          "text": [
            "[0, 1, 2, 3, 4, 5, 6, 7, 8]\n"
          ]
        }
      ]
    },
    {
      "cell_type": "code",
      "source": [
        "g=range(1,10,1)\n",
        "print(list(g))"
      ],
      "metadata": {
        "colab": {
          "base_uri": "https://localhost:8080/"
        },
        "id": "sy98IN74SM93",
        "outputId": "613814e1-498f-469a-c772-75585b2fd7f0"
      },
      "execution_count": null,
      "outputs": [
        {
          "output_type": "stream",
          "name": "stdout",
          "text": [
            "[1, 2, 3, 4, 5, 6, 7, 8, 9]\n"
          ]
        }
      ]
    },
    {
      "cell_type": "code",
      "source": [
        "h=range(1,10,2)\n",
        "print(list(h))"
      ],
      "metadata": {
        "colab": {
          "base_uri": "https://localhost:8080/"
        },
        "id": "NoPjqQJqSNA6",
        "outputId": "05bc7f90-9547-41a5-8d07-5d7857656f4e"
      },
      "execution_count": null,
      "outputs": [
        {
          "output_type": "stream",
          "name": "stdout",
          "text": [
            "[1, 3, 5, 7, 9]\n"
          ]
        }
      ]
    },
    {
      "cell_type": "code",
      "source": [
        "g=range(10,1,-2)\n",
        "print(list(g))"
      ],
      "metadata": {
        "colab": {
          "base_uri": "https://localhost:8080/"
        },
        "id": "Vz8j_P2PSNEE",
        "outputId": "c966045f-ae74-4d0b-f3c0-28215b6d9b2c"
      },
      "execution_count": null,
      "outputs": [
        {
          "output_type": "stream",
          "name": "stdout",
          "text": [
            "[10, 8, 6, 4, 2]\n"
          ]
        }
      ]
    },
    {
      "cell_type": "code",
      "source": [
        "for n in range(3):\n",
        "  print(n)"
      ],
      "metadata": {
        "colab": {
          "base_uri": "https://localhost:8080/"
        },
        "id": "su6cgNpGUEpv",
        "outputId": "2b853ba9-3f83-4be1-b1f1-8681987b324b"
      },
      "execution_count": null,
      "outputs": [
        {
          "output_type": "stream",
          "name": "stdout",
          "text": [
            "0\n",
            "1\n",
            "2\n"
          ]
        }
      ]
    },
    {
      "cell_type": "code",
      "source": [
        "for n in range(10):\n",
        "  print(n,end=\",\")"
      ],
      "metadata": {
        "colab": {
          "base_uri": "https://localhost:8080/"
        },
        "id": "cs8hSDM5UEso",
        "outputId": "c1d32779-943c-4b36-d2fc-0a0794c4e322"
      },
      "execution_count": null,
      "outputs": [
        {
          "output_type": "stream",
          "name": "stdout",
          "text": [
            "0,1,2,3,4,5,6,7,8,9,"
          ]
        }
      ]
    },
    {
      "cell_type": "code",
      "source": [
        "for n in range(0,10,2):\n",
        "  print(n,end=\",\")"
      ],
      "metadata": {
        "colab": {
          "base_uri": "https://localhost:8080/"
        },
        "id": "b54WfvbrUEvq",
        "outputId": "c5a9537b-289b-465c-8946-e50dbb12085b"
      },
      "execution_count": null,
      "outputs": [
        {
          "output_type": "stream",
          "name": "stdout",
          "text": [
            "0,2,4,6,8,"
          ]
        }
      ]
    },
    {
      "cell_type": "code",
      "source": [
        "test=int(input('請輸入一個正整數'))\n",
        "for n in range(1,test+1):\n",
        "  print(n,end=\" \")"
      ],
      "metadata": {
        "colab": {
          "base_uri": "https://localhost:8080/"
        },
        "id": "iUHzClSUUEyk",
        "outputId": "dbfc4b04-ea63-4126-f977-2724799507b6"
      },
      "execution_count": null,
      "outputs": [
        {
          "output_type": "stream",
          "name": "stdout",
          "text": [
            "請輸入一個正整數12\n",
            "1 2 3 4 5 6 7 8 9 10 11 12 "
          ]
        }
      ]
    },
    {
      "cell_type": "code",
      "source": [
        "sum=0\n",
        "for n in range(10,1,-2):\n",
        " sum= sum+n\n",
        " print(sum)"
      ],
      "metadata": {
        "colab": {
          "base_uri": "https://localhost:8080/"
        },
        "id": "mplhrOKGUE04",
        "outputId": "b3a3fcf9-561f-4d11-8673-54c46df371db"
      },
      "execution_count": null,
      "outputs": [
        {
          "output_type": "stream",
          "name": "stdout",
          "text": [
            "10\n",
            "18\n",
            "24\n",
            "28\n",
            "30\n"
          ]
        }
      ]
    },
    {
      "cell_type": "code",
      "source": [
        "num=int(input('請輸入正整數'))\n",
        "sum=0\n",
        "for n in range(1,num+1,1):\n",
        "  sum=sum+n\n",
        "print(sum)"
      ],
      "metadata": {
        "colab": {
          "base_uri": "https://localhost:8080/"
        },
        "id": "tDelFFZ4UZpL",
        "outputId": "6b5a581f-7d5b-4854-de36-e862636606ba"
      },
      "execution_count": null,
      "outputs": [
        {
          "output_type": "stream",
          "name": "stdout",
          "text": [
            "請輸入正整數50\n",
            "1275\n"
          ]
        }
      ]
    },
    {
      "cell_type": "code",
      "source": [
        "hi=int(input('請輸入正整數:'))\n",
        "sum=0\n",
        "for n in range(1,hi+1,1):\n",
        "  sum=sum+n\n",
        "  print('1到',n,'的正整數和為:',sum,)\n",
        "  "
      ],
      "metadata": {
        "colab": {
          "base_uri": "https://localhost:8080/"
        },
        "id": "w-nX1MEdUf1j",
        "outputId": "3ae429ed-d664-4fcc-8426-24e9fc4c7ceb"
      },
      "execution_count": null,
      "outputs": [
        {
          "output_type": "stream",
          "name": "stdout",
          "text": [
            "請輸入正整數:10\n",
            "1到 1 的正整數和為: 1\n",
            "1到 2 的正整數和為: 3\n",
            "1到 3 的正整數和為: 6\n",
            "1到 4 的正整數和為: 10\n",
            "1到 5 的正整數和為: 15\n",
            "1到 6 的正整數和為: 21\n",
            "1到 7 的正整數和為: 28\n",
            "1到 8 的正整數和為: 36\n",
            "1到 9 的正整數和為: 45\n",
            "1到 10 的正整數和為: 55\n"
          ]
        }
      ]
    }
  ]
}